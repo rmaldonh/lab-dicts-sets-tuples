{
 "cells": [
  {
   "cell_type": "markdown",
   "metadata": {},
   "source": [
    "## Challenge 2: Sets\n",
    "\n",
    "There are a lot to learn about Python Sets and the information presented in the lesson is limited due to its length. To learn Python Sets in depth you are strongly encouraged to review the W3Schools tutorial on [Python Sets Examples and Methods](https://www.w3schools.com/python/python_sets.asp) before you work on this lab. Some difficult questions in this lab have their solutions in the W3Schools tutorial.\n",
    "\n",
    "#### First, import the Python `random` libary"
   ]
  },
  {
   "cell_type": "code",
   "execution_count": 8,
   "metadata": {},
   "outputs": [],
   "source": [
    "import random"
   ]
  },
  {
   "cell_type": "markdown",
   "metadata": {},
   "source": [
    "#### In the cell below, create a list named `sample_list_1` with 80 random values. \n",
    "\n",
    "Requirements:\n",
    "\n",
    "* Each value is an integer falling between 0 and 100.\n",
    "* Each value in the list is unique.\n",
    "\n",
    "Print `sample_list_1` to review its values\n",
    "\n",
    "*Hint: use `random.sample` ([reference](https://docs.python.org/3/library/random.html#random.sample)).*"
   ]
  },
  {
   "cell_type": "code",
   "execution_count": 9,
   "metadata": {},
   "outputs": [
    {
     "name": "stdout",
     "output_type": "stream",
     "text": [
      "Elementos en la lista:  80\n",
      "[27, 91, 40, 13, 8, 50, 44, 49, 0, 36, 66, 39, 12, 7, 20, 76, 17, 4, 74, 55, 10, 98, 47, 9, 32, 45, 52, 89, 92, 57, 34, 60, 1, 94, 51, 83, 56, 38, 22, 53, 59, 75, 72, 79, 61, 41, 82, 42, 58, 25, 81, 29, 46, 71, 14, 16, 86, 15, 33, 54, 28, 6, 70, 3, 5, 64, 19, 67, 99, 48, 69, 30, 73, 35, 63, 37, 97, 65, 11, 85]\n"
     ]
    }
   ],
   "source": [
    "# Your code here\n",
    "sample_list_1 = list()\n",
    "\n",
    "flag = True\n",
    "\n",
    "while flag:\n",
    "    numero = random.randrange(100)\n",
    "    \n",
    "    existe = numero in sample_list_1\n",
    "    if existe == False:\n",
    "        sample_list_1.append(numero)\n",
    "        \n",
    "    if len(sample_list_1) == 80:\n",
    "        flag = False\n",
    "        \n",
    "print('Elementos en la lista: ', len(sample_list_1))\n",
    "print(sample_list_1)\n"
   ]
  },
  {
   "cell_type": "markdown",
   "metadata": {},
   "source": [
    "#### Convert `sample_list_1` to a set called `set1`. Print the length of the set. Is its length still 80?"
   ]
  },
  {
   "cell_type": "code",
   "execution_count": 13,
   "metadata": {},
   "outputs": [
    {
     "name": "stdout",
     "output_type": "stream",
     "text": [
      "Elementos en el set:  80\n"
     ]
    }
   ],
   "source": [
    "# Your code here\n",
    "set1 = set(sample_list_1)\n",
    "print('Elementos en el set: ', len(set1))\n"
   ]
  },
  {
   "cell_type": "markdown",
   "metadata": {},
   "source": [
    "#### Create another list named `sample_list_2` with 80 random values.\n",
    "\n",
    "Requirements:\n",
    "\n",
    "* Each value is an integer falling between 0 and 100.\n",
    "* The values in the list don't have to be unique.\n",
    "\n",
    "*Hint: Use a FOR loop.*"
   ]
  },
  {
   "cell_type": "code",
   "execution_count": 11,
   "metadata": {},
   "outputs": [
    {
     "name": "stdout",
     "output_type": "stream",
     "text": [
      "Elementos en la lista:  80\n",
      "[74, 9, 46, 62, 60, 1, 33, 0, 16, 84, 54, 73, 60, 89, 84, 45, 24, 61, 61, 22, 51, 70, 9, 2, 35, 30, 8, 96, 1, 67, 15, 93, 5, 77, 58, 44, 55, 28, 4, 24, 33, 58, 3, 95, 2, 82, 74, 78, 15, 52, 47, 24, 3, 47, 30, 8, 95, 84, 91, 84, 74, 39, 48, 24, 61, 69, 90, 32, 89, 11, 22, 56, 84, 22, 4, 21, 30, 83, 15, 19]\n"
     ]
    }
   ],
   "source": [
    "# Your code here\n",
    "sample_list_2 = list()\n",
    "\n",
    "flag = True\n",
    "\n",
    "while flag:\n",
    "    sample_list_2.append(random.randrange(100))\n",
    "        \n",
    "    if len(sample_list_2) == 80:\n",
    "        flag = False\n",
    "        \n",
    "print('Elementos en la lista: ', len(sample_list_2))\n",
    "print(sample_list_2)"
   ]
  },
  {
   "cell_type": "markdown",
   "metadata": {},
   "source": [
    "#### Convert `sample_list_2` to a set called `set2`. Print the length of the set. Is its length still 80?"
   ]
  },
  {
   "cell_type": "code",
   "execution_count": 16,
   "metadata": {},
   "outputs": [
    {
     "name": "stdout",
     "output_type": "stream",
     "text": [
      "Elementos en el Set 2:  51\n",
      "Hay menos elementos en el set ya que no se agregan los elementos duplicados\n"
     ]
    }
   ],
   "source": [
    "# Your code here\n",
    "set2 = set(sample_list_2)\n",
    "print('Elementos en el Set 2: ',len(set2))\n",
    "\n",
    "if len(set2) < 81:\n",
    "    print('Hay menos elementos en el set ya que no se agregan los elementos duplicados')\n",
    "    \n"
   ]
  },
  {
   "cell_type": "markdown",
   "metadata": {},
   "source": [
    "#### Identify the elements present in `set1` but not in `set2`. Assign the elements to a new set named `set3`."
   ]
  },
  {
   "cell_type": "code",
   "execution_count": 23,
   "metadata": {},
   "outputs": [
    {
     "name": "stdout",
     "output_type": "stream",
     "text": [
      "hay 40 elementos que existen en set1 y no en set2\n",
      "{6, 7, 10, 12, 13, 14, 17, 20, 25, 27, 29, 34, 36, 37, 38, 40, 41, 42, 49, 50, 53, 57, 59, 63, 64, 65, 66, 71, 72, 75, 76, 79, 81, 85, 86, 92, 94, 97, 98, 99}\n"
     ]
    }
   ],
   "source": [
    "# Your code here\n",
    "set3 = set1 - set2\n",
    "    \n",
    "print('hay ' + str(len(set3)) + ' elementos que existen en set1 y no en set2')\n",
    "print(set3)\n"
   ]
  },
  {
   "cell_type": "markdown",
   "metadata": {},
   "source": [
    "#### Identify the elements present in `set2` but not in `set1`. Assign the elements to a new set named `set4`."
   ]
  },
  {
   "cell_type": "code",
   "execution_count": 24,
   "metadata": {},
   "outputs": [
    {
     "name": "stdout",
     "output_type": "stream",
     "text": [
      "hay 11 elementos que existen en set2 y no en set1\n",
      "{96, 2, 77, 78, 84, 21, 24, 90, 93, 62, 95}\n"
     ]
    }
   ],
   "source": [
    "# Your code here\n",
    "set4 = set2 - set1\n",
    "        \n",
    "print('hay ' + str(len(set4)) + ' elementos que existen en set2 y no en set1')\n",
    "print(set4)"
   ]
  },
  {
   "cell_type": "markdown",
   "metadata": {},
   "source": [
    "#### Now Identify the elements shared between `set1` and `set2`. Assign the elements to a new set named `set5`."
   ]
  },
  {
   "cell_type": "code",
   "execution_count": 26,
   "metadata": {},
   "outputs": [
    {
     "name": "stdout",
     "output_type": "stream",
     "text": [
      "hay 40 elementos que se comparten entre set1 y set2\n",
      "{0, 1, 3, 4, 5, 8, 9, 11, 15, 16, 19, 22, 28, 30, 32, 33, 35, 39, 44, 45, 46, 47, 48, 51, 52, 54, 55, 56, 58, 60, 61, 67, 69, 70, 73, 74, 82, 83, 89, 91}\n"
     ]
    }
   ],
   "source": [
    "# Your code here\n",
    "set5 = set1.intersection(set2)\n",
    "\n",
    "print('hay ' + str(len(set5)) + ' elementos que se comparten entre set1 y set2')\n",
    "print(set5)"
   ]
  },
  {
   "cell_type": "markdown",
   "metadata": {},
   "source": [
    "#### What is the relationship among the following values:\n",
    "\n",
    "* len(set1)\n",
    "* len(set2)\n",
    "* len(set3)\n",
    "* len(set4)\n",
    "* len(set5)\n",
    "\n",
    "Use a math formular to represent that relationship. Test your formular with Python code."
   ]
  },
  {
   "cell_type": "code",
   "execution_count": 30,
   "metadata": {},
   "outputs": [
    {
     "name": "stdout",
     "output_type": "stream",
     "text": [
      "set1:  80\n",
      "set2:  51\n",
      "set3:  40\n",
      "set4:  11\n",
      "set5:  40\n"
     ]
    }
   ],
   "source": [
    "# Your code here\n",
    "print('set1: ', len(set1))\n",
    "print('set2: ', len(set2))\n",
    "print('set3: ', len(set3))\n",
    "print('set4: ', len(set4))\n",
    "print('set5: ', len(set5))"
   ]
  },
  {
   "cell_type": "markdown",
   "metadata": {},
   "source": [
    "#### Create an empty set called `set6`."
   ]
  },
  {
   "cell_type": "code",
   "execution_count": 27,
   "metadata": {},
   "outputs": [
    {
     "name": "stdout",
     "output_type": "stream",
     "text": [
      "set()\n"
     ]
    }
   ],
   "source": [
    "# Your code here\n",
    "set6 = set()\n",
    "print(set6)"
   ]
  },
  {
   "cell_type": "markdown",
   "metadata": {},
   "source": [
    "#### Add `set3` and `set5` to `set6` using the Python Set `update` method."
   ]
  },
  {
   "cell_type": "code",
   "execution_count": 28,
   "metadata": {},
   "outputs": [
    {
     "name": "stdout",
     "output_type": "stream",
     "text": [
      "Elementos del set6\n",
      "{0, 1, 3, 4, 5, 6, 7, 8, 9, 10, 11, 12, 13, 14, 15, 16, 17, 19, 20, 22, 25, 27, 28, 29, 30, 32, 33, 34, 35, 36, 37, 38, 39, 40, 41, 42, 44, 45, 46, 47, 48, 49, 50, 51, 52, 53, 54, 55, 56, 57, 58, 59, 60, 61, 63, 64, 65, 66, 67, 69, 70, 71, 72, 73, 74, 75, 76, 79, 81, 82, 83, 85, 86, 89, 91, 92, 94, 97, 98, 99}\n"
     ]
    }
   ],
   "source": [
    "# Your code here\n",
    "set6.update(set3)\n",
    "set6.update(set5)\n",
    "print('Elementos del set6')\n",
    "print(set6)"
   ]
  },
  {
   "cell_type": "markdown",
   "metadata": {},
   "source": [
    "#### Check if `set1` and `set6` are equal."
   ]
  },
  {
   "cell_type": "code",
   "execution_count": 31,
   "metadata": {},
   "outputs": [
    {
     "name": "stdout",
     "output_type": "stream",
     "text": [
      "Los conjuntos set1 y set6 son iguales\n"
     ]
    }
   ],
   "source": [
    "# Your code here\n",
    "if set1 == set6:\n",
    "    print('Los conjuntos set1 y set6 son iguales')\n",
    "else:\n",
    "    print('Los conjuntos set1 y set6 son diferentes')"
   ]
  },
  {
   "cell_type": "markdown",
   "metadata": {},
   "source": [
    "#### Check if `set1` contains `set2` using the Python Set `issubset` method. Then check if `set1` contains `set3`.*"
   ]
  },
  {
   "cell_type": "code",
   "execution_count": 33,
   "metadata": {},
   "outputs": [
    {
     "name": "stdout",
     "output_type": "stream",
     "text": [
      "El set2 NO es un subconjunto set1\n",
      "El set3 es un subconjunto set1\n"
     ]
    }
   ],
   "source": [
    "# Your code here\n",
    "resp = set2.issubset(set1)\n",
    "if set2.issubset(set1):\n",
    "    print('El set2 es un subconjunto set1')\n",
    "else:\n",
    "    print('El set2 NO es un subconjunto set1')\n",
    "    \n",
    "\n",
    "if set3.issubset(set1):\n",
    "    print('El set3 es un subconjunto set1')\n",
    "else:\n",
    "    print('El set3 NO es un subconjunto set1')\n",
    "    \n"
   ]
  },
  {
   "cell_type": "markdown",
   "metadata": {},
   "source": [
    "#### Using the Python Set `union` method, aggregate `set3`, `set4`, and `set5`. Then aggregate `set1` and `set2`. \n",
    "\n",
    "#### Check if the aggregated values are equal.\n"
   ]
  },
  {
   "cell_type": "code",
   "execution_count": null,
   "metadata": {},
   "outputs": [],
   "source": [
    "# Your code here\n",
    "\n",
    "print('Union de set3, set4 y set5')\n",
    "print('Elementos: ',len(set3.union(set4.union(set5))))\n",
    "print(set3.union(set4.union(set5)))\n",
    "print('\\n')\n",
    "print('Unión de set1 y set2')\n",
    "print('Elementos: ',len(set1.union(set2)))\n",
    "print(set1.union(set2))\n",
    "print('\\n')\n",
    "if set1.union(set2) == set3.union(set4.union(set5)):\n",
    "    print('La unión de los sets 3, 4, y 5 es igual a la unión del set 1 y 2')\n",
    "else:\n",
    "    print('La unión de los sets 3, 4, y 5 es diferente a la unión del set 1 y 2')"
   ]
  },
  {
   "cell_type": "markdown",
   "metadata": {},
   "source": [
    "#### Using the `pop` method, remove the first element from `set1`."
   ]
  },
  {
   "cell_type": "code",
   "execution_count": 44,
   "metadata": {
    "scrolled": true
   },
   "outputs": [
    {
     "name": "stdout",
     "output_type": "stream",
     "text": [
      "{0, 1, 3, 4, 5, 6, 7, 8, 9, 10, 11, 12, 13, 14, 15, 16, 17, 19, 20, 22, 25, 27, 28, 29, 30, 32, 33, 34, 35, 36, 37, 38, 39, 40, 41, 42, 44, 45, 46, 47, 48, 49, 50, 51, 52, 53, 54, 55, 56, 57, 58, 59, 60, 61, 63, 64, 65, 66, 67, 69, 70, 71, 72, 73, 74, 75, 76, 79, 81, 82, 83, 85, 86, 89, 91, 92, 94, 97, 98, 99}\n"
     ]
    },
    {
     "data": {
      "text/plain": [
       "0"
      ]
     },
     "execution_count": 44,
     "metadata": {},
     "output_type": "execute_result"
    }
   ],
   "source": [
    "# Your code here\n",
    "print(set1)\n",
    "\n",
    "set1.pop()\n",
    "\n",
    "print(set1)"
   ]
  },
  {
   "cell_type": "markdown",
   "metadata": {},
   "source": [
    "#### Remove every element in the following list from `set1` if they are present in the set. Print the remaining elements.\n",
    "\n",
    "```\n",
    "list_to_remove = [1, 9, 11, 19, 21, 29, 31, 39, 41, 49, 51, 59, 61, 69, 71, 79, 81, 89, 91, 99]\n",
    "```"
   ]
  },
  {
   "cell_type": "code",
   "execution_count": 45,
   "metadata": {
    "scrolled": true
   },
   "outputs": [
    {
     "name": "stdout",
     "output_type": "stream",
     "text": [
      "Conjunto set1 antes de eliminar elementos\n",
      "{1, 3, 4, 5, 6, 7, 8, 9, 10, 11, 12, 13, 14, 15, 16, 17, 19, 20, 22, 25, 27, 28, 29, 30, 32, 33, 34, 35, 36, 37, 38, 39, 40, 41, 42, 44, 45, 46, 47, 48, 49, 50, 51, 52, 53, 54, 55, 56, 57, 58, 59, 60, 61, 63, 64, 65, 66, 67, 69, 70, 71, 72, 73, 74, 75, 76, 79, 81, 82, 83, 85, 86, 89, 91, 92, 94, 97, 98, 99}\n",
      "\n",
      "\n",
      "Conjunto set1 despues de elminar elementos \n",
      "{3, 4, 5, 6, 7, 8, 10, 12, 13, 14, 15, 16, 17, 20, 22, 25, 27, 28, 30, 32, 33, 34, 35, 36, 37, 38, 40, 42, 44, 45, 46, 47, 48, 50, 52, 53, 54, 55, 56, 57, 58, 60, 63, 64, 65, 66, 67, 70, 72, 73, 74, 75, 76, 82, 83, 85, 86, 92, 94, 97, 98}\n"
     ]
    }
   ],
   "source": [
    "# Your code here\n",
    "list_to_remove = [1, 9, 11, 19, 21, 29, 31, 39, 41, 49, 51, 59, 61, 69, 71, 79, 81, 89, 91, 99]\n",
    "\n",
    "print('Conjunto set1 antes de eliminar elementos')\n",
    "print(set1)\n",
    "\n",
    "for i in list_to_remove:\n",
    "    if (i in set1):\n",
    "        set1.remove(i)\n",
    "\n",
    "print('\\n')\n",
    "print('Conjunto set1 despues de elminar elementos ')\n",
    "print(set1)"
   ]
  }
 ],
 "metadata": {
  "kernelspec": {
   "display_name": "Python 3",
   "language": "python",
   "name": "python3"
  },
  "language_info": {
   "codemirror_mode": {
    "name": "ipython",
    "version": 3
   },
   "file_extension": ".py",
   "mimetype": "text/x-python",
   "name": "python",
   "nbconvert_exporter": "python",
   "pygments_lexer": "ipython3",
   "version": "3.8.5"
  }
 },
 "nbformat": 4,
 "nbformat_minor": 2
}
